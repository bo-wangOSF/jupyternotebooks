{
 "cells": [
  {
   "cell_type": "code",
   "execution_count": 5,
   "metadata": {},
   "outputs": [],
   "source": [
    "import pandas as pd\n",
    "\n",
    "def sf15to18 (id):\n",
    "\tif not id:\n",
    "\t\traise ValueError('No id given.')\n",
    "\tif not isinstance(id, str):\n",
    "\t\traise TypeError('The given id isn\\'t a string')\n",
    "\tif len(id) == 18:\n",
    "\t\treturn id\n",
    "\tif len(id) != 15:\n",
    "\t\traise ValueError('The given id isn\\'t 15 characters long.')\n",
    "\n",
    "\t# Generate three last digits of the id\n",
    "\tfor i in range(0,3):\n",
    "\t\tf = 0\n",
    "\n",
    "\t\t# For every 5-digit block of the given id\n",
    "\t\tfor j in range(0,5):\n",
    "\t\t\t# Assign the j-th chracter of the i-th 5-digit block to c\n",
    "\t\t\tc = id[i * 5 + j]\n",
    "\n",
    "\t\t\t# Check if c is an uppercase letter\n",
    "\t\t\tif c >= 'A' and c <= 'Z':\n",
    "\t\t\t\t# Set a 1 at the character's position in the reversed segment\n",
    "\t\t\t\tf += 1 << j\n",
    "\n",
    "\t\t# Add the calculated character for the current block to the id\n",
    "\t\tid += 'ABCDEFGHIJKLMNOPQRSTUVWXYZ012345'[f]\n",
    "\n",
    "\treturn id\n",
    "\n"
   ]
  },
  {
   "cell_type": "code",
   "execution_count": 8,
   "metadata": {},
   "outputs": [],
   "source": [
    "df = pd.read_csv('/Users/bowang/Downloads/report1708635920091.csv')\n",
    "\n",
    "df['18digits'] = df['Contact ID'].apply(sf15to18)\n",
    "\n",
    "df.to_csv('/Users/bowang/Downloads/report1708635920091.csv')"
   ]
  }
 ],
 "metadata": {
  "kernelspec": {
   "display_name": "Python 3",
   "language": "python",
   "name": "python3"
  },
  "language_info": {
   "codemirror_mode": {
    "name": "ipython",
    "version": 3
   },
   "file_extension": ".py",
   "mimetype": "text/x-python",
   "name": "python",
   "nbconvert_exporter": "python",
   "pygments_lexer": "ipython3",
   "version": "3.10.undefined"
  }
 },
 "nbformat": 4,
 "nbformat_minor": 2
}
