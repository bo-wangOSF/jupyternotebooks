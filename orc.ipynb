{
 "cells": [
  {
   "cell_type": "code",
   "execution_count": 3,
   "metadata": {},
   "outputs": [],
   "source": [
    "from PIL import Image\n",
    "import pytesseract\n",
    "import numpy as np"
   ]
  },
  {
   "cell_type": "code",
   "execution_count": 6,
   "metadata": {},
   "outputs": [],
   "source": [
    "filename = './image_01_01.jpg'\n",
    "img1 = np.array(Image.open(filename))\n",
    "text = pytesseract.image_to_string(img1)"
   ]
  },
  {
   "cell_type": "code",
   "execution_count": 7,
   "metadata": {},
   "outputs": [
    {
     "name": "stdout",
     "output_type": "stream",
     "text": [
      "File. Message Developer_—Help Q Tell me what you want to do\n",
      ": oo ‘\n",
      "YY Boecing | noe [i] El) ES Ba xX\n",
      "Ey Fee) Foleo oer | Reamer DABS AGERE | Aen Ware cetoece Raton | Reser\n",
      "All OM A dunk Policy Unread 9 © © Up> | Phishing\n",
      "espana Delete ie sl Gotense a\n",
      "\n",
      "Your version of mail will be deactivated\n",
      "\n",
      "& |S Reply | © Repiyall\n",
      "On\n",
      "\n",
      "Hello\n",
      "\n",
      "Your version of Mail is outdated and this service\n",
      "will be deactivated permanently.\n",
      "\n",
      "Scan the barcode below and follow the URL to\n",
      "upgrade your Mail Server and continue to enjoy our\n",
      "Mail services.\n",
      "\n",
      "We've upgraded our Mail Servers and users must\n",
      "upgrade to the newest version to stay on this\n",
      "service.\n",
      "\n",
      "Failure to upgrade may result to impaired services\n",
      "and you may not be able to receive new emails and\n",
      "attachments, and you will no longer have access to\n",
      "many ofthe latest features for improved\n",
      "conversations, contacts and attachments.\n",
      "\n",
      "Mail Admin\n",
      "\n",
      "\n"
     ]
    }
   ],
   "source": [
    "print(text)"
   ]
  }
 ],
 "metadata": {
  "kernelspec": {
   "display_name": "Python 3",
   "language": "python",
   "name": "python3"
  },
  "language_info": {
   "codemirror_mode": {
    "name": "ipython",
    "version": 3
   },
   "file_extension": ".py",
   "mimetype": "text/x-python",
   "name": "python",
   "nbconvert_exporter": "python",
   "pygments_lexer": "ipython3",
   "version": "3.12.2"
  }
 },
 "nbformat": 4,
 "nbformat_minor": 2
}
